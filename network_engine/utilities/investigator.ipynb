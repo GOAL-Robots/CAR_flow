{
 "cells": [
  {
   "cell_type": "markdown",
   "metadata": {},
   "source": [
    "# Investigator"
   ]
  },
  {
   "cell_type": "markdown",
   "metadata": {},
   "source": [
    "This file is supposed to be an interactive tool to look at parameters and values hidden in the network states. By default you can look at the different weights and use some interactive widgets to customize your visualization"
   ]
  },
  {
   "cell_type": "markdown",
   "metadata": {},
   "source": [
    "In the end Investigator should be able to output an animation of time related properties"
   ]
  },
  {
   "cell_type": "code",
   "execution_count": 10,
   "metadata": {},
   "outputs": [],
   "source": [
    "# standard libraries\n",
    "# -----\n",
    "import tensorflow as tf\n",
    "import numpy as np\n",
    "import ipywidgets as widgets\n",
    "from IPython.display import display\n"
   ]
  },
  {
   "cell_type": "code",
   "execution_count": 11,
   "metadata": {},
   "outputs": [],
   "source": [
    "# custom functions\n",
    "# -----\n",
    "import visualizer"
   ]
  },
  {
   "cell_type": "code",
   "execution_count": 12,
   "metadata": {},
   "outputs": [],
   "source": [
    "# interactive mode /eager execution"
   ]
  },
  {
   "cell_type": "code",
   "execution_count": 35,
   "metadata": {},
   "outputs": [],
   "source": [
    "# set working directory\n",
    "wdir = '/data/'"
   ]
  },
  {
   "cell_type": "code",
   "execution_count": null,
   "metadata": {},
   "outputs": [],
   "source": []
  },
  {
   "cell_type": "code",
   "execution_count": null,
   "metadata": {},
   "outputs": [],
   "source": []
  },
  {
   "cell_type": "code",
   "execution_count": null,
   "metadata": {},
   "outputs": [],
   "source": []
  },
  {
   "cell_type": "code",
   "execution_count": null,
   "metadata": {},
   "outputs": [],
   "source": []
  },
  {
   "cell_type": "code",
   "execution_count": null,
   "metadata": {},
   "outputs": [],
   "source": []
  },
  {
   "cell_type": "code",
   "execution_count": null,
   "metadata": {},
   "outputs": [],
   "source": []
  },
  {
   "cell_type": "code",
   "execution_count": null,
   "metadata": {},
   "outputs": [],
   "source": []
  },
  {
   "cell_type": "code",
   "execution_count": 82,
   "metadata": {},
   "outputs": [
    {
     "data": {
      "application/vnd.jupyter.widget-view+json": {
       "model_id": "41d88d124fab4be19dc5cba1b180d515",
       "version_major": 2,
       "version_minor": 0
      },
      "text/plain": [
       "Accordion(children=(ToggleButtons(description='Architecture:', options=('B', 'B-F', 'B-K', 'BT', 'BL', 'BLT'),…"
      ]
     },
     "metadata": {},
     "output_type": "display_data"
    }
   ],
   "source": [
    "toggle = widgets.ToggleButtons(\n",
    "    options=['B', 'B-F', 'B-K','BT', 'BL', 'BLT'],\n",
    "    description='Architecture:',\n",
    "    disabled=False,\n",
    "    button_style='', # 'success', 'info', 'warning', 'danger' or ''\n",
    "    tooltips=['Description of slow', 'Description of regular', 'Description of fast'],\n",
    "#     icons=['check'] * 3\n",
    ")\n",
    "\n",
    "slider = widgets.IntSlider(min=0,\n",
    "    max=3,\n",
    "    step=1,\n",
    "    description='Timestep:',\n",
    "    value=3)\n",
    "\n",
    "dropdown = widgets.Dropdown(\n",
    "    options=['1', '2', '3'],\n",
    "    value='2',\n",
    "    description='Variable:',\n",
    "    disabled=False,\n",
    ")\n",
    "\n",
    "irange = widgets.IntRangeSlider(\n",
    "    value=[0, 10000],\n",
    "    min=0,\n",
    "    max=10000,\n",
    "    step=100,\n",
    "    description='Test:',\n",
    "    disabled=False,\n",
    "    continuous_update=False,\n",
    "    orientation='horizontal',\n",
    "    readout=True,\n",
    "    readout_format='d',\n",
    ")\n",
    "\n",
    "play = widgets.Play(\n",
    "#     interval=10,\n",
    "    value=irange.value[0],\n",
    "    min=0,\n",
    "    max=10000,\n",
    "    step=100,\n",
    "    description=\"Press play\",\n",
    "    disabled=False\n",
    ")\n",
    "playslide = widgets.IntSlider(\n",
    "    min=0,\n",
    "    max=10000)\n",
    "\n",
    "widgets.jslink((irange, 'min'), (playslide, 'value'))\n",
    "widgets.jslink((play, 'value'), (playslide, 'value'))\n",
    "\n",
    "\n",
    "playwidget = widgets.HBox([play, playslide])\n",
    "\n",
    "accordion = widgets.Accordion(children=[toggle, slider, dropdown, irange, playwidget])\n",
    "accordion.set_title(0, 'Choose Connectivity')\n",
    "accordion.set_title(1, 'Timestep')\n",
    "accordion.set_title(2, 'Look at')\n",
    "accordion.set_title(3, 'Iterationrange')\n",
    "accordion.set_title(4, 'Animate')\n",
    "\n",
    "accordion"
   ]
  },
  {
   "cell_type": "code",
   "execution_count": null,
   "metadata": {},
   "outputs": [],
   "source": []
  },
  {
   "cell_type": "code",
   "execution_count": null,
   "metadata": {},
   "outputs": [],
   "source": []
  },
  {
   "cell_type": "code",
   "execution_count": 36,
   "metadata": {},
   "outputs": [],
   "source": [
    "# Project Saturn\n",
    "# _____________________________________________________________________________\n",
    "#\n",
    "#                                                                         _.oo.\n",
    "# October 2019                                    _.u[[/;:,.         .odMMMMMM'\n",
    "#                                             .o888UU[[[/;:-.  .o@P^    MMM^\n",
    "# investigator.ipynb                         oN88888UU[[[/;::-.        dP^\n",
    "# implementation of a simple                dNMMNN888UU[[[/;:--.   .o@P^\n",
    "# predictive coding network (Wen, 2018)    ,MMMMMMN888UU[[/;::-. o@^\n",
    "#                                          NNMMMNN888UU[[[/~.o@P^\n",
    "# Markus Ernst                             888888888UU[[[/o@^-..\n",
    "#                                         oI8888UU[[[/o@P^:--..\n",
    "#                                      .@^  YUU[[[/o@^;::---..\n",
    "#                                    oMP     ^/o@P^;:::---..\n",
    "#                                 .dMMM    .o@^ ^;::---...\n",
    "#                                dMMMMMMM@^`       `^^^^\n",
    "#                               YMMMUP^\n",
    "#                                ^^\n",
    "# _____________________________________________________________________________\n",
    "#\n",
    "#\n",
    "# Copyright 2019 Markus Ernst\n",
    "#\n",
    "# Licensed under the Apache License, Version 2.0 (the \"License\");\n",
    "# you may not use this file except in compliance with the License.\n",
    "# You may obtain a copy of the License at\n",
    "#\n",
    "#     http://www.apache.org/licenses/LICENSE-2.0\n",
    "#\n",
    "# Unless required by applicable law or agreed to in writing, software\n",
    "# distributed under the License is distributed on an \"AS IS\" BASIS,\n",
    "# WITHOUT WARRANTIES OR CONDITIONS OF ANY KIND, either express or implied.\n",
    "# See the License for the specific language governing permissions and\n",
    "# limitations under the License.\n",
    "#\n",
    "# _____________________________________________________________________________"
   ]
  },
  {
   "cell_type": "code",
   "execution_count": 51,
   "metadata": {},
   "outputs": [
    {
     "data": {
      "application/vnd.jupyter.widget-view+json": {
       "model_id": "f00dcf5911ff47ba854f95f20f042589",
       "version_major": 2,
       "version_minor": 0
      },
      "text/plain": [
       "HBox(children=(Play(value=50, description='Press play'), IntSlider(value=0)))"
      ]
     },
     "metadata": {},
     "output_type": "display_data"
    }
   ],
   "source": []
  },
  {
   "cell_type": "code",
   "execution_count": null,
   "metadata": {},
   "outputs": [],
   "source": []
  }
 ],
 "metadata": {
  "kernelspec": {
   "display_name": "Python 3",
   "language": "python",
   "name": "python3"
  },
  "language_info": {
   "codemirror_mode": {
    "name": "ipython",
    "version": 3
   },
   "file_extension": ".py",
   "mimetype": "text/x-python",
   "name": "python",
   "nbconvert_exporter": "python",
   "pygments_lexer": "ipython3",
   "version": "3.6.5"
  }
 },
 "nbformat": 4,
 "nbformat_minor": 2
}
