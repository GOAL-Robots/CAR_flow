{
 "cells": [
  {
   "cell_type": "markdown",
   "metadata": {},
   "source": [
    "# Investigator"
   ]
  },
  {
   "cell_type": "markdown",
   "metadata": {},
   "source": [
    "### Purpose"
   ]
  },
  {
   "cell_type": "markdown",
   "metadata": {},
   "source": [
    "This notebook is supposed to be an interactive tool to look at parameters and values hidden in the network states. By default you can look at model checkpoints and visualize the different weights"
   ]
  },
  {
   "cell_type": "markdown",
   "metadata": {},
   "source": [
    "Investigator additionally is capable to read saved model-output (.pkl) files to investigate different parameters and explore plotting and animation of time related properties"
   ]
  },
  {
   "cell_type": "markdown",
   "metadata": {},
   "source": [
    "### Code"
   ]
  },
  {
   "cell_type": "code",
   "execution_count": 1,
   "metadata": {},
   "outputs": [
    {
     "name": "stderr",
     "output_type": "stream",
     "text": [
      "WARNING: Logging before flag parsing goes to stderr.\n",
      "W1024 12:27:02.004558 139966945564416 deprecation_wrapper.py:119] From /home/mernst/.local/lib/python3.5/site-packages/tfplot/figure.py:18: The name tf.Summary is deprecated. Please use tf.compat.v1.Summary instead.\n",
      "\n"
     ]
    }
   ],
   "source": [
    "#           .\"\"\"-.\n",
    "#          /      \\\n",
    "#          |  _..--'-.\n",
    "#          >.`__.-\"\";\"`\n",
    "#         / /(     ^\\\n",
    "#         '-`)     =|-.\n",
    "#          /`--.'--'   \\ .-.\n",
    "#        .'`-._ `.\\    | J /\n",
    "#       /      `--.|   \\__/\n",
    "#\n",
    "#\n",
    "#\n",
    "# Copyright 2019 Markus Ernst\n",
    "#\n",
    "# Licensed under the Apache License, Version 2.0 (the \"License\");\n",
    "# you may not use this file except in compliance with the License.\n",
    "# You may obtain a copy of the License at\n",
    "#\n",
    "#     http://www.apache.org/licenses/LICENSE-2.0\n",
    "#\n",
    "# Unless required by applicable law or agreed to in writing, software\n",
    "# distributed under the License is distributed on an \"AS IS\" BASIS,\n",
    "# WITHOUT WARRANTIES OR CONDITIONS OF ANY KIND, either express or implied.\n",
    "# See the License for the specific language governing permissions and\n",
    "# limitations under the License.\n",
    "\n",
    "\n",
    "# standard libraries\n",
    "# -----\n",
    "import tensorflow as tf\n",
    "import numpy as np\n",
    "import matplotlib.pyplot as plt\n",
    "import ipywidgets as widgets\n",
    "from IPython.display import display\n",
    "from tensorflow.python.training import checkpoint_utils as cu\n",
    "# TODO: Incorporate TSNE library here\n",
    "\n",
    "# custom functions\n",
    "# -----\n",
    "import visualizer"
   ]
  },
  {
   "cell_type": "code",
   "execution_count": null,
   "metadata": {},
   "outputs": [],
   "source": []
  },
  {
   "cell_type": "code",
   "execution_count": 2,
   "metadata": {},
   "outputs": [],
   "source": [
    "# interactive mode /eager execution\n",
    "tf.enable_eager_execution()"
   ]
  },
  {
   "cell_type": "code",
   "execution_count": null,
   "metadata": {},
   "outputs": [],
   "source": []
  },
  {
   "cell_type": "code",
   "execution_count": 3,
   "metadata": {},
   "outputs": [],
   "source": [
    "def get_list_of_images(list_of_weights, stereo):\n",
    "\n",
    "\n",
    "    for kernel in list_of_weights:\n",
    "        kernel_name = kernel[0]\n",
    "        kernel_value = kernel[1]\n",
    "        kname = kernel_name.split('/')[1].split('_')[0] + '/kernels'\n",
    "        receptive_pixels = kernel_value.shape[0].value\n",
    "        if 'fc' in kname:\n",
    "            pass\n",
    "        elif 'conv0' in kname:\n",
    "            if stereo:\n",
    "                image.append(\n",
    "                    tf.compat.v1.summary.image(kname, put_kernels_on_grid(\n",
    "                        kname, tf.reshape(kernel_value,\n",
    "                                          [2 * receptive_pixels,\n",
    "                                              receptive_pixels, -1,\n",
    "                                              network.\n",
    "                                              net_params\n",
    "                                              ['conv_filter_shapes'][0][-1]])),\n",
    "                                     max_outputs=1))\n",
    "            else:\n",
    "                image.append(\n",
    "                    tf.compat.v1.summary.image(kname, put_kernels_on_grid(\n",
    "                        kname, kernel_value),\n",
    "                        max_outputs=1))\n",
    "\n",
    "        else:\n",
    "            image.append(\n",
    "                tf.compat.v1.summary.image(kname, put_kernels_on_grid(\n",
    "                    kname, tf.reshape(\n",
    "                        kernel_value, [receptive_pixels, receptive_pixels,\n",
    "                                 1, -1])), max_outputs=1))\n",
    "\n",
    "    return image\n"
   ]
  },
  {
   "cell_type": "code",
   "execution_count": 4,
   "metadata": {},
   "outputs": [],
   "source": [
    "def get_model_paths():\n",
    "    pass"
   ]
  },
  {
   "cell_type": "code",
   "execution_count": 5,
   "metadata": {},
   "outputs": [],
   "source": [
    "def configure_widgets():\n",
    "    toggle = widgets.ToggleButtons(\n",
    "        options=['0 (B)', '1 (B-F)', '2 (B-K)','3 (BT)', '4 (BL)', '5 (BLT)'],\n",
    "        description='Architecture:',\n",
    "        disabled=False,\n",
    "        button_style='', # 'success', 'info', 'warning', 'danger' or ''\n",
    "        tooltips=['Description of slow', 'Description of regular', 'Description of fast'],\n",
    "    #     icons=['check'] * 3\n",
    "    )\n",
    "\n",
    "    slider = widgets.IntSlider(min=0,\n",
    "        max=3,\n",
    "        step=1,\n",
    "        description='Timestep:',\n",
    "        value=3)\n",
    "\n",
    "    dropdown = widgets.Dropdown(\n",
    "        options=['1', '2', '3'],\n",
    "        value='2',\n",
    "        description='Variable:',\n",
    "        disabled=False,\n",
    "    )\n",
    "\n",
    "    irange = widgets.IntRangeSlider(\n",
    "        value=[0, 10000],\n",
    "        min=0,\n",
    "        max=10000,\n",
    "        step=100,\n",
    "        description='Test:',\n",
    "        disabled=False,\n",
    "        continuous_update=False,\n",
    "        orientation='horizontal',\n",
    "        readout=True,\n",
    "        readout_format='d',\n",
    "    )\n",
    "\n",
    "    play = widgets.Play(\n",
    "    #     interval=10,\n",
    "        value=irange.value[0],\n",
    "        min=0,\n",
    "        max=10000,\n",
    "        step=100,\n",
    "        description=\"Press play\",\n",
    "        disabled=False\n",
    "    )\n",
    "    playslide = widgets.IntSlider(\n",
    "        min=0,\n",
    "        max=10000)\n",
    "\n",
    "    widgets.jslink((irange, 'min'), (playslide, 'value'))\n",
    "    widgets.jslink((play, 'value'), (playslide, 'value'))\n",
    "\n",
    "\n",
    "    playwidget = widgets.HBox([play, playslide])\n",
    "\n",
    "    accordion = widgets.Accordion(children=[toggle, slider, dropdown, irange, playwidget])\n",
    "    accordion.set_title(0, 'Choose Configuration')\n",
    "    accordion.set_title(1, 'Timestep')\n",
    "    accordion.set_title(2, 'Look at')\n",
    "    accordion.set_title(3, 'Iterationrange')\n",
    "    accordion.set_title(4, 'Animate')\n",
    "\n",
    "    return accordion"
   ]
  },
  {
   "cell_type": "code",
   "execution_count": 6,
   "metadata": {},
   "outputs": [
    {
     "data": {
      "application/vnd.jupyter.widget-view+json": {
<<<<<<< HEAD
       "model_id": "131d8c5c4f8941419ffec7158e791a3d",
=======
       "model_id": "7bb8a5318f06464f91471edf2cfdfa9f",
>>>>>>> 9947d0f35f497448d8bacc96bd69d556eec863ad
       "version_major": 2,
       "version_minor": 0
      },
      "text/plain": [
       "Accordion(children=(ToggleButtons(description='Architecture:', options=('0 (B)', '1 (B-F)', '2 (B-K)', '3 (BT)…"
      ]
     },
     "metadata": {},
     "output_type": "display_data"
    }
   ],
   "source": [
    "configure_widgets()"
   ]
  },
  {
   "cell_type": "code",
<<<<<<< HEAD
   "execution_count": 7,
   "metadata": {},
   "outputs": [
    {
     "ename": "InvalidArgumentError",
     "evalue": "Unsuccessful TensorSliceReader constructor: Failed to get matching files on /Users/markus/Research/Code/saturn/experiments/001_noname_experiment/data/config0/B0_2l_fm1_d1.0_l20.0_bn1_bs100_lr0.003/mnist_2occ_Xp/28x28x1_grayscale_onehot/checkpoints/: Not found: /Users/markus/Research/Code/saturn/experiments/001_noname_experiment/data/config0/B0_2l_fm1_d1.0_l20.0_bn1_bs100_lr0.003/mnist_2occ_Xp/28x28x1_grayscale_onehot/checkpoints; No such file or directory",
     "output_type": "error",
     "traceback": [
      "\u001b[0;31m---------------------------------------------------------------------------\u001b[0m",
      "\u001b[0;31mInvalidArgumentError\u001b[0m                      Traceback (most recent call last)",
      "\u001b[0;32m<ipython-input-7-76256a601c0f>\u001b[0m in \u001b[0;36m<module>\u001b[0;34m\u001b[0m\n\u001b[1;32m      3\u001b[0m \u001b[0;34m\u001b[0m\u001b[0m\n\u001b[1;32m      4\u001b[0m \u001b[0;34m\u001b[0m\u001b[0m\n\u001b[0;32m----> 5\u001b[0;31m \u001b[0mlist_of_variables\u001b[0m \u001b[0;34m=\u001b[0m \u001b[0mcu\u001b[0m\u001b[0;34m.\u001b[0m\u001b[0mlist_variables\u001b[0m\u001b[0;34m(\u001b[0m\u001b[0mmodelpath\u001b[0m\u001b[0;34m)\u001b[0m\u001b[0;34m\u001b[0m\u001b[0m\n\u001b[0m\u001b[1;32m      6\u001b[0m \u001b[0;31m#get_list_of_images(list_of_variables, False)\u001b[0m\u001b[0;34m\u001b[0m\u001b[0;34m\u001b[0m\u001b[0m\n\u001b[1;32m      7\u001b[0m \u001b[0;34m\u001b[0m\u001b[0m\n",
      "\u001b[0;32m~/virtualenv/tf1_14/lib/python3.5/site-packages/tensorflow/python/training/checkpoint_utils.py\u001b[0m in \u001b[0;36mlist_variables\u001b[0;34m(ckpt_dir_or_file)\u001b[0m\n\u001b[1;32m     95\u001b[0m     \u001b[0mList\u001b[0m \u001b[0mof\u001b[0m \u001b[0mtuples\u001b[0m\u001b[0;31m \u001b[0m\u001b[0;31m`\u001b[0m\u001b[0;34m(\u001b[0m\u001b[0mname\u001b[0m\u001b[0;34m,\u001b[0m \u001b[0mshape\u001b[0m\u001b[0;34m)\u001b[0m\u001b[0;31m`\u001b[0m\u001b[0;34m.\u001b[0m\u001b[0;34m\u001b[0m\u001b[0m\n\u001b[1;32m     96\u001b[0m   \"\"\"\n\u001b[0;32m---> 97\u001b[0;31m   \u001b[0mreader\u001b[0m \u001b[0;34m=\u001b[0m \u001b[0mload_checkpoint\u001b[0m\u001b[0;34m(\u001b[0m\u001b[0mckpt_dir_or_file\u001b[0m\u001b[0;34m)\u001b[0m\u001b[0;34m\u001b[0m\u001b[0m\n\u001b[0m\u001b[1;32m     98\u001b[0m   \u001b[0mvariable_map\u001b[0m \u001b[0;34m=\u001b[0m \u001b[0mreader\u001b[0m\u001b[0;34m.\u001b[0m\u001b[0mget_variable_to_shape_map\u001b[0m\u001b[0;34m(\u001b[0m\u001b[0;34m)\u001b[0m\u001b[0;34m\u001b[0m\u001b[0m\n\u001b[1;32m     99\u001b[0m   \u001b[0mnames\u001b[0m \u001b[0;34m=\u001b[0m \u001b[0msorted\u001b[0m\u001b[0;34m(\u001b[0m\u001b[0mvariable_map\u001b[0m\u001b[0;34m.\u001b[0m\u001b[0mkeys\u001b[0m\u001b[0;34m(\u001b[0m\u001b[0;34m)\u001b[0m\u001b[0;34m)\u001b[0m\u001b[0;34m\u001b[0m\u001b[0m\n",
      "\u001b[0;32m~/virtualenv/tf1_14/lib/python3.5/site-packages/tensorflow/python/training/checkpoint_utils.py\u001b[0m in \u001b[0;36mload_checkpoint\u001b[0;34m(ckpt_dir_or_file)\u001b[0m\n\u001b[1;32m     64\u001b[0m     raise ValueError(\"Couldn't find 'checkpoint' file or checkpoints in \"\n\u001b[1;32m     65\u001b[0m                      \"given directory %s\" % ckpt_dir_or_file)\n\u001b[0;32m---> 66\u001b[0;31m   \u001b[0;32mreturn\u001b[0m \u001b[0mpywrap_tensorflow\u001b[0m\u001b[0;34m.\u001b[0m\u001b[0mNewCheckpointReader\u001b[0m\u001b[0;34m(\u001b[0m\u001b[0mfilename\u001b[0m\u001b[0;34m)\u001b[0m\u001b[0;34m\u001b[0m\u001b[0m\n\u001b[0m\u001b[1;32m     67\u001b[0m \u001b[0;34m\u001b[0m\u001b[0m\n\u001b[1;32m     68\u001b[0m \u001b[0;34m\u001b[0m\u001b[0m\n",
      "\u001b[0;32m~/virtualenv/tf1_14/lib/python3.5/site-packages/tensorflow/python/pywrap_tensorflow_internal.py\u001b[0m in \u001b[0;36mNewCheckpointReader\u001b[0;34m(filepattern)\u001b[0m\n\u001b[1;32m    634\u001b[0m \u001b[0;32mdef\u001b[0m \u001b[0mNewCheckpointReader\u001b[0m\u001b[0;34m(\u001b[0m\u001b[0mfilepattern\u001b[0m\u001b[0;34m)\u001b[0m\u001b[0;34m:\u001b[0m\u001b[0;34m\u001b[0m\u001b[0m\n\u001b[1;32m    635\u001b[0m   \u001b[0;32mfrom\u001b[0m \u001b[0mtensorflow\u001b[0m\u001b[0;34m.\u001b[0m\u001b[0mpython\u001b[0m\u001b[0;34m.\u001b[0m\u001b[0mutil\u001b[0m \u001b[0;32mimport\u001b[0m \u001b[0mcompat\u001b[0m\u001b[0;34m\u001b[0m\u001b[0m\n\u001b[0;32m--> 636\u001b[0;31m   \u001b[0;32mreturn\u001b[0m \u001b[0mCheckpointReader\u001b[0m\u001b[0;34m(\u001b[0m\u001b[0mcompat\u001b[0m\u001b[0;34m.\u001b[0m\u001b[0mas_bytes\u001b[0m\u001b[0;34m(\u001b[0m\u001b[0mfilepattern\u001b[0m\u001b[0;34m)\u001b[0m\u001b[0;34m)\u001b[0m\u001b[0;34m\u001b[0m\u001b[0m\n\u001b[0m\u001b[1;32m    637\u001b[0m \u001b[0;34m\u001b[0m\u001b[0m\n\u001b[1;32m    638\u001b[0m \u001b[0mNewCheckpointReader\u001b[0m\u001b[0;34m.\u001b[0m\u001b[0m_tf_api_names_v1\u001b[0m \u001b[0;34m=\u001b[0m \u001b[0;34m[\u001b[0m\u001b[0;34m'train.NewCheckpointReader'\u001b[0m\u001b[0;34m]\u001b[0m\u001b[0;34m\u001b[0m\u001b[0m\n",
      "\u001b[0;32m~/virtualenv/tf1_14/lib/python3.5/site-packages/tensorflow/python/pywrap_tensorflow_internal.py\u001b[0m in \u001b[0;36m__init__\u001b[0;34m(self, filename)\u001b[0m\n\u001b[1;32m    646\u001b[0m \u001b[0;34m\u001b[0m\u001b[0m\n\u001b[1;32m    647\u001b[0m     \u001b[0;32mdef\u001b[0m \u001b[0m__init__\u001b[0m\u001b[0;34m(\u001b[0m\u001b[0mself\u001b[0m\u001b[0;34m,\u001b[0m \u001b[0mfilename\u001b[0m\u001b[0;34m)\u001b[0m\u001b[0;34m:\u001b[0m\u001b[0;34m\u001b[0m\u001b[0m\n\u001b[0;32m--> 648\u001b[0;31m         \u001b[0mthis\u001b[0m \u001b[0;34m=\u001b[0m \u001b[0m_pywrap_tensorflow_internal\u001b[0m\u001b[0;34m.\u001b[0m\u001b[0mnew_CheckpointReader\u001b[0m\u001b[0;34m(\u001b[0m\u001b[0mfilename\u001b[0m\u001b[0;34m)\u001b[0m\u001b[0;34m\u001b[0m\u001b[0m\n\u001b[0m\u001b[1;32m    649\u001b[0m         \u001b[0;32mtry\u001b[0m\u001b[0;34m:\u001b[0m\u001b[0;34m\u001b[0m\u001b[0m\n\u001b[1;32m    650\u001b[0m             \u001b[0mself\u001b[0m\u001b[0;34m.\u001b[0m\u001b[0mthis\u001b[0m\u001b[0;34m.\u001b[0m\u001b[0mappend\u001b[0m\u001b[0;34m(\u001b[0m\u001b[0mthis\u001b[0m\u001b[0;34m)\u001b[0m\u001b[0;34m\u001b[0m\u001b[0m\n",
      "\u001b[0;31mInvalidArgumentError\u001b[0m: Unsuccessful TensorSliceReader constructor: Failed to get matching files on /Users/markus/Research/Code/saturn/experiments/001_noname_experiment/data/config0/B0_2l_fm1_d1.0_l20.0_bn1_bs100_lr0.003/mnist_2occ_Xp/28x28x1_grayscale_onehot/checkpoints/: Not found: /Users/markus/Research/Code/saturn/experiments/001_noname_experiment/data/config0/B0_2l_fm1_d1.0_l20.0_bn1_bs100_lr0.003/mnist_2occ_Xp/28x28x1_grayscale_onehot/checkpoints; No such file or directory"
     ]
=======
   "execution_count": 22,
   "metadata": {},
   "outputs": [
    {
     "name": "stdout",
     "output_type": "stream",
     "text": [
      "[Visualization] conv0_weights grid: 32 = (4, 8)\n"
     ]
    },
    {
     "data": {
      "image/png": "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\n",
      "text/plain": [
       "<Figure size 432x288 with 1 Axes>"
      ]
     },
     "metadata": {},
     "output_type": "display_data"
    },
    {
     "name": "stdout",
     "output_type": "stream",
     "text": [
      "[Visualization] conv1_weights grid: 32 = (4, 8)\n"
     ]
    },
    {
     "data": {
      "image/png": "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\n",
      "text/plain": [
       "<Figure size 432x288 with 1 Axes>"
      ]
     },
     "metadata": {},
     "output_type": "display_data"
    },
    {
     "name": "stdout",
     "output_type": "stream",
     "text": [
      "[Visualization] lateral0weights grid: 32 = (4, 8)\n"
     ]
    },
    {
     "data": {
      "image/png": "iVBORw0KGgoAAAANSUhEUgAAAX4AAADKCAYAAACi9isrAAAABHNCSVQICAgIfAhkiAAAAAlwSFlzAAALEgAACxIB0t1+/AAAADl0RVh0U29mdHdhcmUAbWF0cGxvdGxpYiB2ZXJzaW9uIDIuMi4zLCBodHRwOi8vbWF0cGxvdGxpYi5vcmcvIxREBQAAFw5JREFUeJzt3XuQFdWdB/Dv1+GxBhFUwigPGd6EEARFYkpJUAwCERGDCFl3zW4SYipWRde4a7KV4GYrlWTXJFu7bOmi4INKFJZHIAYJlKGCRFEQeT+HV2AYGQwojiJkht/+cXuSm0vfc+693TO3Z/v7qaKmb//OnPOzvfObnr59+tDMICIi6XFBuRMQEZGWpcIvIpIyKvwiIimjwi8ikjIq/CIiKaPCLyKSMir8IiIpo8IvIpIyKvwiIinTptwJhCGp6cQiIkUyMxbSLtIZP8lxJHeTrCb5cEi8Pcn5Qfw1klVRxhMRkehKLvwkKwD8N4DxAAYDmE5ycE6zLwE4aWb9APwUwI9KHU9EROIR5Yx/JIBqM9tvZmcBPA9gUk6bSQCeCbYXAhhDsqA/RUREpHlEKfzdARzOen0k2BfaxswaALwL4LIIY4qISESJ+XCX5AwAM8qdh4jI/3dRzvhrAPTMet0j2BfahmQbAJ0A/CGsMzObbWYjzGxEhJxERMQjSuFfD6A/yd4k2wGYBmBZTptlAO4JtqcA+I1p5RcRkbIq+VKPmTWQvA/ArwFUAJhrZttJfg/ABjNbBmAOgHkkqwGcQOaXQ2R79uzxtpk8ebIz/vbbbzvjx44dKyqnMMOGDfO2OX78uDNeU5P7R1T8KisrnfGqqipvH3v37nXGT5w4UUxKoQ4cOOCMnzt3zttHY2OjMz5gwICicgrTt29fZ7yQ43no0CFnvLq6upiUQvXq1csZb9u2rTP+4osvesfo379/UTmFeeihh5zxJ5980hn3vb8BYNeuXUXllKtHjx7eNhdddJEz/uGHH3r7OHjwYKEpOUW6xm9mywEsz9n33aztDwHcGWUMERGJlx7ZICKSMir8IiIpo8IvIpIyKvwiIimjwi8ikjIq/CIiKaPCLyKSMol5Vk8xxo0b523Ts2dPZ/zyyy93xuOYwFXI5Kv27ds74926dXPGjx49WlROYcaPH++MP/DAA94+OnXq5IwXMmnJ5+zZs854mzb+t7NvAlccfA+gLWSyUEVFRVzp5HXmzBln/KWXXnLGWyJHANi/f78zvm3bNmf8zjubfypRIe+9P/7xj854Sx1PQGf8IiKpo8IvIpIyKvwiIimjwi8ikjJR1tztSXI1yR0kt5P8Rkib0STfJbkp+PfdsL5ERKTlRLmrpwHAg2a2kWRHAG+QXGVmO3LavWxmt0YYR0REYlTyGb+Z1ZrZxmD7PQA7cf6auyIikjCx3MdPsgrAcACvhYQ/RXIzgKMAvmlm26OOt3jxYm8b3yITvgUNhg8fXkxKoebMmeNt85WvfMUZP3XqVOQ8fHzzInr37u3to1+/fnGl06z69OnT7GN85CMfccbXrl3r7WPSpEnO+O9///uicgpz2WWXOeO33ur+Q903FyYujz76qDP+mc98xhlfvXq1dwzfvB+fQhZR2b17tzN+8cUXe/vwzREpVOTCT/IiAIsA3G9muVVqI4BeZlZPcgKAXwAIXZJHi62LiLSMSHf1kGyLTNH/mZmddxpuZqfMrD7YXg6gLckuYX1psXURkZYR5a4eIrOm7k4z+0meNpcH7UByZDDeH0odU0REootyqed6AH8DYCvJTcG+bwO4EgDM7HEAUwB8jWQDgNMAppmZRRhTREQiKrnwm9laAM5PGsxsFoBZpY4hIiLx08xdEZGUUeEXEUkZFX4RkZRhEj9rJZm8pEREEs7MCprhpTN+EZGUUeEXEUkZFX4RkZRR4RcRSRkVfhGRlFHhFxFJGRV+EZGUUeEXEUmZyIWf5EGSW4PF1DeExEnyP0lWk9xC8uqoY4qISOliWXoRwI1m9nae2HhkVt3qD+CTAB4LvoqISBm0xKWeSQCetYx1ADqTvKIFxhURkRBxFH4DsJLkG8G6ubm6Azic9fpIsO8vkJxBckPY5SIREYlPHJd6bjCzGpJdAawiucvM1hTbiZnNBjAb0EPaRESaU+QzfjOrCb7WAVgCYGROkxoAPbNe9wj2iYhIGUQq/CQ7kOzYtA1gLIBtOc2WAfjb4O6e6wC8a2a1UcYVEZHSRb3UUwlgCcmmvn5uZitI3gv8acH15QAmAKgG8AGAv4s4JtatW+dtM2bMGGd8xYoVzvioUaOKyinMwoULvW2uvfZaZ3zw4MHO+Pvvv19UTmF69erljL/66qvePnzHa9++fUXlFGbQoEHO+MqVK7193Hjjjc54HHlWVVU54xUVFd4+XnzxRWd8wIABxaQUql+/fs74e++954x37NjRO0Z1dXVROYXZsWOHM37y5ElnvH379t4xRowYUVROua677jpvmzlz5jjjX/jCF7x9bN68ueCcXCIVfjPbD+CqkP2PZ20bgK9HGUdEROKjmbsiIimjwi8ikjIq/CIiKaPCLyKSMir8IiIpo8IvIpIyKvwiIinDzG32yeJ7Vo9vYgkA1NXVOeN33XWXM75hQ/RnxVVWVnrbtG3b1hnv0KGDM7579+6icgqzZ88eZ/yOO+7w9rF48WJnPI4JR7W17gnfhUy6W716tTPes2dPZ7wQvklLp0+f9vbh+7kcOnRoUTmF8b13Jk6c6Iz7jiUAdO9+3vMYi7Zr1y5n/IIL3Oevhbx/t23LfeBAcXyT4QCgW7duzvihQ4e8ffjamBm9nUBn/CIiqaPCLyKSMir8IiIpo8IvIpIyJRd+kgODBdab/p0ieX9Om9Ek381q893oKYuISBQlP53TzHYDGAYAJCuQWVxlSUjTl83s1lLHERGReMV1qWcMgH1m5r8fSUREyiqW+/hJzgWw0cxm5ewfDWARMgusHwXwTTPbnqePGQCaFmu/xjXe66+/7s3Jt3iIb0GOOO6TfuWVV7xt2rRx/9FVX1/vjN90001F5RTGtwjFggULvH347k3/+Mc/XlROYQYOHOiM++6TBvz3Qe/fv7+onML45pkcP37c20djY6Mz3r9//6JyCuObW3HixAlnvFOnTt4x4ljYZsuWLc54u3btnHHfsQSivz+HDBnibTNv3jxnvHfv3t4+Onfu7Iy32H38JNsBuA3A/4aENwLoZWZXAfgvAL/I14+ZzTazEWYWbSkcERFxiuNSz3hkzvaP5QbM7JSZ1QfbywG0JdklhjFFRKREcRT+6QCeCwuQvJzBgrwkRwbj/SGGMUVEpESR1twl2QHAZwF8NWtf9kLrUwB8jWQDgNMAplkSHw4kIpIiURdbfx/AZTn7shdanwVgVu73iYhI+WjmrohIyqjwi4ikjAq/iEjKtMqFWERE5HxaiEVEREKp8IuIpIwKv4hIyqjwi4ikjAq/iEjKqPCLiKSMCr+ISMqo8IuIpExBhZ/kXJJ1JLdl7buU5CqSe4Ovl+T53nuCNntJ3hNX4iIiUppCz/ifBjAuZ9/DAF4ys/4AXgpe/wWSlwKYCeCTAEYCmJnvF4SIiLSMggq/ma0BkLsA5yQAzwTbzwC4PeRbbwGwysxOmNlJAKtw/i8QERFpQVGex19pZrXB9lsAKkPadAdwOOv1kWDfeXIWWxcRkWYSaSGWJmZmUR+sZmazAcwG9JA2EZHmFOWunmMkrwCA4GtdSJsaAD2zXvcI9omISJlEKfzLADTdpXMPgKUhbX4NYCzJS4IPdccG+0REpEwKutRD8jkAowF0IXkEmTt1fghgAckvATgEYGrQdgSAe83sy2Z2guS/AlgfdPU9M8v9kLhohw8f9rY5fvy4M3733Xc74zt27CgqpzD79u3zthk7dqwz/stf/tIZHzx4cFE5hamqqnLG6+vrvX107tzZGa+uri4mpVBvvvmmM/75z3/e28fSpWHnJ3/2iU98oqicwvTr188Z37p1q7ePESNGOOPbt28vKqcwDz30kDM+f/58Z3zlypXeMQYNGlRUTmEeeOABZ9z3s9ylSxfvGL169Soqp1y1tbXeNuvWrXPGhw8f7u3D97NaqIIKv5lNzxMaE9J2A4AvZ72eC2BuSdmJiEjsNHNXRCRlVPhFRFJGhV9EJGVU+EVEUkaFX0QkZVT4RURSRoVfRCRlYnlWT0sbPXq0t82FF17Y/Il4+CZnAUD79u2d8YkTJ8aVTl4rVqxwxq+66ipvH6+88oozPmDAgKJyCjN58mRnfNWqVd4+brnllsh5+Pj+nxYy2adr167OeBwTuH7729864+vXr3fGZ8+eHTmHQixcuNAZX7NmjTPum8wZh4aGBm+ba665xhk/d+5cXOl46YxfRCRlVPhFRFJGhV9EJGVU+EVEUsZb+PMstP7vJHeR3EJyCcnQRzOSPEhyK8lNJDfEmbiIiJSmkDP+p3H+OrmrAAwxs6EA9gD4luP7bzSzYWbmfs6siIi0CG/hD1to3cxWmlnT/UvrkFlZS0REWoE47uP/ewD5VmwwACuDNXT/J1hXN1Qxi60vWrTI28Z3H/+YMectJRC7xYsXe9v4Fg8xa/7lh6dMmeKMV1ZWevtoifkGvoU/GhsbvX20a9curnTy8t3TffbsWW8fdXVhK5nGa968ec740aNHnfGpU6d6x/jOd75TVE5hfve73znjO3fudMYHDhzoHSPqAienT5/2tpk+Pd+yJhkLFiyIlEMxIhV+kv8MoAHAz/I0ucHMakh2BbCK5K7gL4jzaLF1EZGWUfJdPSS/COBWAH9teU5Lzawm+FoHYAmAkaWOJyIi8Sip8JMcB+AfAdxmZh/kadOBZMembWQWWt8W1lZERFpOIbdzPgfgVQADSR4JFlefBaAjMpdvNpF8PGjbjeTy4FsrAawluRnA6wB+ZWbuh8KIiEiz817jz7PQ+pw8bY8CmBBs7wfgf7qXiIi0KM3cFRFJGRV+EZGUUeEXEUkZtsQEoWLpPn4RkeKZGQtppzN+EZGUUeEXEUkZFX4RkZRR4RcRSRkVfhGRlFHhFxFJGRV+EZGUKXXN3UdI1gQPaNtEckKe7x1HcjfJapIPx5m4iIiUxjuBi+SnAdQDeNbMhgT7HgFQb2aPOr6vApn1eD8L4AiA9QCmm9kOb1KawCUiUrTYJnCFrblboJEAqs1sv5mdBfA8gEkl9CMiIjGKco3/PpJbgktBl4TEuwM4nPX6SLBPRETKqNTC/xiAvgCGAagF8OOoiZCcQXIDyQ1R+xIRkfxKKvxmdszMGs3sHIAnEL6Wbg2AnlmvewT78vU528xGmNmIUnISEZHClLrm7hVZLycjfC3d9QD6k+xNsh2AaQCWlTKeiIjEx7v0YrDm7mgAXUgeATATwGiSwwAYgIMAvhq07QbgSTObYGYNJO8D8GsAFQDmmtn2ZvmvEBGRgrXK5/G3b9/e28fHPvYxZ3z37t3O+OnTp71j+PTp08fbpnPnzs743LlznfFhw4YVlVMYX54XX3yxtw/f8fId70LcdtttzvhTTz3l7aOxsdEZ79q1a1E5henXr58zvmLFCm8f06ZNc8Y3bIj+Udhbb73ljN98883O+A9+8APvGBMnTiwqpzBVVVXOeJs27vPXM2fOeMc4fPiwt43LoEGDIn0/AFxwgf8CzI4d7rvh9Tx+EREJpcIvIpIyKvwiIimjwi8ikjIq/CIiKaPCLyKSMir8IiIpo8IvIpIy3pm7SfTOO+942/gm+yxdutQZ79WrV1E5hSlkQkZ1dbUzPm7cuMh5+PjyrK+v9/bREhMBhw8f7owXMtFs+/bmnzze0NDgjN9+++3ePs6dOxdXOiV74oknnPG+ffu2SB6+CZv333+/M/65z33OO8aVV15ZVE65XnjhBW+bu+66yxmfN2+et4/BgwcXnJOLzvhFRFJGhV9EJGVU+EVEUqaQp3POBXArgLqsNXfnAxgYNOkM4B0zO+9pYSQPAngPQCOABj1rX0Sk/Ar5cPdpALMAPNu0w8z+9CkFyR8DeNfx/Tea2dulJigiIvHyFn4zW0OyKixGkgCmArgp3rRERKS5RL3GPwrAMTPbmyduAFaSfIPkjIhjiYhIDKLexz8dwHOO+A1mVkOyK4BVJHeZ2ZqwhsEvhoJ+ORw4cMDbxndP7AcffFDIUJHU1tZ628ycOdMZ993HP3To0KJyCuO773zjxo3ePq6++urIefg8+OCDzninTp28fRw5ciSudPJ6+eWXnfGKigpvH1OnTo0rnbxOnjzpjHfo0MEZP378eJzp5OVbSOX66693xkeNGhVnOqEKmZvhmxt05513xpWOV8ln/CTbALgDwPx8bcysJvhaB2AJwhdlb2qrxdZFRFpAlEs9NwPYZWahp1AkO5Ds2LQNYCzCF2UXEZEW5C38wWLrrwIYSPIIyS8FoWnIucxDshvJ5cHLSgBrSW4G8DqAX5mZf7FRERFpVoXc1TM9z/4vhuw7CmBCsL0fwFUR8xMRkZhp5q6ISMqo8IuIpIwKv4hIyqjwi4ikDFtiAY1ikUxeUiIiCWdmLKSdzvhFRFJGhV9EJGVU+EVEUkaFX0QkZVT4RURSRoVfRCRlVPhFRFIm6kIszeVtAIeyXncJ9iVda8izNeQIKM+4Kc94JTFP90ovWRI5gSsXyQ2tYYGW1pBna8gRUJ5xU57xai155qNLPSIiKaPCLyKSMq2l8M8udwIFag15toYcAeUZN+UZr9aSZ6hWcY1fRETi01rO+EVEJCaJLvwkx5HcTbKa5MPlzicfkgdJbiW5ieSGcufThORcknUkt2Xtu5TkKpJ7g6+XlDPHIKewPB8hWRMc000kJ5QzxyCnniRXk9xBcjvJbwT7E3NMHTkm6niS/CuSr5PcHOT5L8H+3iRfC37m55Nsl9A8nyZ5IOt4DitnnsVK7KUekhUA9gD4LIAjANYDmG5mO8qaWAiSBwGMMLNE3ddL8tMA6gE8a2ZDgn3/BuCEmf0w+GV6iZn9UwLzfARAvZk9Ws7cspG8AsAVZraRZEcAbwC4HcAXkZBj6shxKhJ0PEkSQAczqyfZFsBaAN8A8A8AFpvZ8yQfB7DZzB5LYJ73AnjBzBaWK7coknzGPxJAtZntN7OzAJ4HMKnMObUqZrYGwImc3ZMAPBNsP4NMUSirPHkmjpnVmtnGYPs9ADsBdEeCjqkjx0SxjPrgZdvgnwG4CUBTMS37+9ORZ6uW5MLfHcDhrNdHkMA3cMAArCT5BskZ5U7Go9LMaoPttwBUljMZj/tIbgkuBZX9klQ2klUAhgN4DQk9pjk5Agk7niQrSG4CUAdgFYB9AN4xs4agSSJ+5nPzNLOm4/n94Hj+lGT7MqZYtCQX/tbkBjO7GsB4AF8PLl0knmWu8yX17OUxAH0BDANQC+DH5U3nz0heBGARgPvN7FR2LCnHNCTHxB1PM2s0s2EAeiDzF/6gMqcUKjdPkkMAfAuZfK8FcCmAsl4uLVaSC38NgJ5Zr3sE+xLHzGqCr3UAliDzJk6qY8F14KbrwXVlzieUmR0LfuDOAXgCCTmmwXXeRQB+ZmaLg92JOqZhOSb1eAKAmb0DYDWATwHoTLLpGWKJ+pnPynNccEnNzOwMgKeQoONZiCQX/vUA+gef8rcDMA3AsjLndB6SHYIP0UCyA4CxALa5v6uslgG4J9i+B8DSMuaSV1MhDUxGAo5p8EHfHAA7zewnWaHEHNN8OSbteJL8KMnOwfaFyNzEsROZwjolaFb292eePHdl/aInMp9DlP39WYzE3tUDAMEtZ/8BoALAXDP7fplTOg/JPsic5QOZp53+PCl5knwOwGhkniR4DMBMAL8AsADAlcg8AXWqmZX1g9U8eY5G5rKEATgI4KtZ19HLguQNAF4GsBXAuWD3t5G5hp6IY+rIcToSdDxJDkXmw9sKZE5AF5jZ94Kfp+eRuXzyJoC7g7PqpOX5GwAfBUAAmwDcm/UhcOIluvCLiEj8knypR0REmoEKv4hIyqjwi4ikjAq/iEjKqPCLiKSMCr+ISMqo8IuIpIwKv4hIyvwfhmY2bsN996cAAAAASUVORK5CYII=\n",
      "text/plain": [
       "<Figure size 432x288 with 1 Axes>"
      ]
     },
     "metadata": {},
     "output_type": "display_data"
    },
    {
     "name": "stdout",
     "output_type": "stream",
     "text": [
      "[Visualization] lateral1weights grid: 32 = (4, 8)\n"
     ]
    },
    {
     "data": {
      "image/png": "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\n",
      "text/plain": [
       "<Figure size 432x288 with 1 Axes>"
      ]
     },
     "metadata": {},
     "output_type": "display_data"
    },
    {
     "name": "stdout",
     "output_type": "stream",
     "text": [
      "[Visualization] topdown0weights grid: 32 = (4, 8)\n"
     ]
    },
    {
     "data": {
      "image/png": "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\n",
      "text/plain": [
       "<Figure size 432x288 with 1 Axes>"
      ]
     },
     "metadata": {},
     "output_type": "display_data"
>>>>>>> 9947d0f35f497448d8bacc96bd69d556eec863ad
    }
   ],
   "source": [
    "#modelpath = '/Users/markus/Research/Code/saturn/experiments/001_noname_experiment/data/config0/B0_2l_fm1_d1.0_l20.0_bn1_bs100_lr0.003/mnist_2occ_Xp/28x28x1_grayscale_onehot/checkpoints/'\n",
    "modelpath = '/Users/markus/Research/Code/saturn/experiments/001_noname_experiment/data/config0/BLT3_2l_fm1_d1.0_l20.0_bn1_bs100_lr0.003/mnist_2occ_Xp/28x28x2_grayscale_onehot/checkpoints'\n",
    "\n",
    "\n",
    "\n",
    "list_of_variables = cu.list_variables(modelpath)\n",
    "#get_list_of_images(list_of_variables, False)\n",
    "\n",
    "if True:\n",
    "    conv0weights = cu.load_variable(modelpath, 'convolutional_layer_0/conv0_conv_var')\n",
    "    viz = visualizer.put_kernels_on_grid(name='conv0_weights', kernel=tf.reshape(conv0weights,[2 * 3, 3, -1, 32]))\n",
    "    viz_np = viz.numpy()    \n",
    "    plt.imshow(viz_np[0,:,:,0], cmap='gray')\n",
    "    plt.show()\n",
    "\n",
    "else:\n",
    "    conv0weights = tf.convert_to_tensor(conv0weights)\n",
    "    viz = visualizer.put_kernels_on_grid(name='conv0_weights', kernel=conv0weights)\n",
    "    viz_np = viz.numpy()    \n",
    "    plt.imshow(viz_np[0,:,:,0], cmap='gray')\n",
    "    plt.show()\n",
    "\n",
    "conv1weights = cu.load_variable(modelpath, 'convolutional_layer_1/conv1_conv_var')\n",
    "conv1weights = tf.convert_to_tensor(conv1weights)\n",
    "viz = visualizer.put_kernels_on_grid(name='conv1_weights', kernel=conv1weights)\n",
    "viz_np = viz.numpy()    \n",
    "plt.imshow(viz_np[0,:,:,0], cmap='gray')\n",
    "plt.show()\n",
    "\n",
    "lateral0weights = cu.load_variable(modelpath, 'lateral_layer_0/lateral0_var')\n",
    "lateral0weights = tf.convert_to_tensor(lateral0weights)\n",
    "viz = visualizer.put_kernels_on_grid(name='lateral0weights', kernel=lateral0weights)\n",
    "viz_np = viz.numpy()    \n",
    "plt.imshow(viz_np[0,:,:,0], cmap='gray')\n",
    "plt.show()\n",
    "\n",
    "lateral1weights = cu.load_variable(modelpath, 'lateral_layer_1/lateral1_var')\n",
    "lateral1weights = tf.convert_to_tensor(lateral1weights)\n",
    "viz = visualizer.put_kernels_on_grid(name='lateral1weights', kernel=lateral1weights)\n",
    "viz_np = viz.numpy()    \n",
    "plt.imshow(viz_np[0,:,:,0], cmap='gray')\n",
    "plt.show()\n",
    "\n",
    "topdown0weights = cu.load_variable(modelpath, 'topdown_layer_0/topdown0_var')\n",
    "topdown0weights = tf.convert_to_tensor(topdown0weights)\n",
    "viz = visualizer.put_kernels_on_grid(name='topdown0weights', kernel=topdown0weights)\n",
    "viz_np = viz.numpy()    \n",
    "plt.imshow(viz_np[0,:,:,0], cmap='gray')\n",
    "plt.show()\n",
    "\n",
    "\n"
   ]
  },
  {
   "cell_type": "code",
   "execution_count": null,
   "metadata": {},
   "outputs": [],
   "source": []
  },
  {
   "cell_type": "code",
   "execution_count": 23,
   "metadata": {},
   "outputs": [
    {
     "data": {
      "text/plain": [
       "[('Variable', []),\n",
       " ('Variable_1', []),\n",
       " ('Variable_2', []),\n",
       " ('Variable_3', []),\n",
       " ('Variable_4', []),\n",
       " ('Variable_5', []),\n",
       " ('Variable_6', []),\n",
       " ('Variable_7', []),\n",
       " ('Variable_8', []),\n",
       " ('beta1_power', []),\n",
       " ('beta2_power', []),\n",
       " ('confusion_matrix', [10, 10]),\n",
       " ('conv0_batchnorm_moments/Squeeze/ExponentialMovingAverage', [32]),\n",
       " ('conv0_batchnorm_moments/Squeeze_1/ExponentialMovingAverage', [32]),\n",
       " ('conv0_batchnorm_moments_1/Squeeze/ExponentialMovingAverage', [32]),\n",
       " ('conv0_batchnorm_moments_1/Squeeze_1/ExponentialMovingAverage', [32]),\n",
       " ('conv0_batchnorm_moments_2/Squeeze/ExponentialMovingAverage', [32]),\n",
       " ('conv0_batchnorm_moments_2/Squeeze_1/ExponentialMovingAverage', [32]),\n",
       " ('conv0_batchnorm_moments_3/Squeeze/ExponentialMovingAverage', [32]),\n",
       " ('conv0_batchnorm_moments_3/Squeeze_1/ExponentialMovingAverage', [32]),\n",
       " ('conv1_batchnorm_moments/Squeeze/ExponentialMovingAverage', [32]),\n",
       " ('conv1_batchnorm_moments/Squeeze_1/ExponentialMovingAverage', [32]),\n",
       " ('conv1_batchnorm_moments_1/Squeeze/ExponentialMovingAverage', [32]),\n",
       " ('conv1_batchnorm_moments_1/Squeeze_1/ExponentialMovingAverage', [32]),\n",
       " ('conv1_batchnorm_moments_2/Squeeze/ExponentialMovingAverage', [32]),\n",
       " ('conv1_batchnorm_moments_2/Squeeze_1/ExponentialMovingAverage', [32]),\n",
       " ('conv1_batchnorm_moments_3/Squeeze/ExponentialMovingAverage', [32]),\n",
       " ('conv1_batchnorm_moments_3/Squeeze_1/ExponentialMovingAverage', [32]),\n",
       " ('convolutional_layer_0/conv0_batchnorm_beta', [32]),\n",
       " ('convolutional_layer_0/conv0_batchnorm_beta/Adam', [32]),\n",
       " ('convolutional_layer_0/conv0_batchnorm_beta/Adam_1', [32]),\n",
       " ('convolutional_layer_0/conv0_batchnorm_gamma', [32]),\n",
       " ('convolutional_layer_0/conv0_batchnorm_gamma/Adam', [32]),\n",
       " ('convolutional_layer_0/conv0_batchnorm_gamma/Adam_1', [32]),\n",
       " ('convolutional_layer_0/conv0_conv_var', [3, 3, 2, 32]),\n",
       " ('convolutional_layer_0/conv0_conv_var/Adam', [3, 3, 2, 32]),\n",
       " ('convolutional_layer_0/conv0_conv_var/Adam_1', [3, 3, 2, 32]),\n",
       " ('convolutional_layer_1/conv1_batchnorm_beta', [32]),\n",
       " ('convolutional_layer_1/conv1_batchnorm_beta/Adam', [32]),\n",
       " ('convolutional_layer_1/conv1_batchnorm_beta/Adam_1', [32]),\n",
       " ('convolutional_layer_1/conv1_batchnorm_gamma', [32]),\n",
       " ('convolutional_layer_1/conv1_batchnorm_gamma/Adam', [32]),\n",
       " ('convolutional_layer_1/conv1_batchnorm_gamma/Adam_1', [32]),\n",
       " ('convolutional_layer_1/conv1_conv_var', [3, 3, 32, 32]),\n",
       " ('convolutional_layer_1/conv1_conv_var/Adam', [3, 3, 32, 32]),\n",
       " ('convolutional_layer_1/conv1_conv_var/Adam_1', [3, 3, 32, 32]),\n",
       " ('embedding_thumbnails', [0, 32, 32, 2]),\n",
       " ('fc0_batchnorm_moments/Squeeze/ExponentialMovingAverage', [10]),\n",
       " ('fc0_batchnorm_moments/Squeeze_1/ExponentialMovingAverage', [10]),\n",
       " ('fc0_batchnorm_moments_1/Squeeze/ExponentialMovingAverage', [10]),\n",
       " ('fc0_batchnorm_moments_1/Squeeze_1/ExponentialMovingAverage', [10]),\n",
       " ('fc0_batchnorm_moments_2/Squeeze/ExponentialMovingAverage', [10]),\n",
       " ('fc0_batchnorm_moments_2/Squeeze_1/ExponentialMovingAverage', [10]),\n",
       " ('fc0_batchnorm_moments_3/Squeeze/ExponentialMovingAverage', [10]),\n",
       " ('fc0_batchnorm_moments_3/Squeeze_1/ExponentialMovingAverage', [10]),\n",
       " ('fully_connected_layer_0/fc0_batchnorm_beta', [10]),\n",
       " ('fully_connected_layer_0/fc0_batchnorm_beta/Adam', [10]),\n",
       " ('fully_connected_layer_0/fc0_batchnorm_beta/Adam_1', [10]),\n",
       " ('fully_connected_layer_0/fc0_batchnorm_gamma', [10]),\n",
       " ('fully_connected_layer_0/fc0_batchnorm_gamma/Adam', [10]),\n",
       " ('fully_connected_layer_0/fc0_batchnorm_gamma/Adam_1', [10]),\n",
       " ('fully_connected_layer_0/fc0_fc_var', [1568, 10]),\n",
       " ('fully_connected_layer_0/fc0_fc_var/Adam', [1568, 10]),\n",
       " ('fully_connected_layer_0/fc0_fc_var/Adam_1', [1568, 10]),\n",
       " ('global_epoch', []),\n",
       " ('global_step', []),\n",
       " ('input_labels_var', [100, 10]),\n",
       " ('input_var', [100, 28, 28, 2]),\n",
       " ('lateral0_batchnorm_moments/Squeeze/ExponentialMovingAverage', [32]),\n",
       " ('lateral0_batchnorm_moments/Squeeze_1/ExponentialMovingAverage', [32]),\n",
       " ('lateral0_batchnorm_moments_1/Squeeze/ExponentialMovingAverage', [32]),\n",
       " ('lateral0_batchnorm_moments_1/Squeeze_1/ExponentialMovingAverage', [32]),\n",
       " ('lateral0_batchnorm_moments_2/Squeeze/ExponentialMovingAverage', [32]),\n",
       " ('lateral0_batchnorm_moments_2/Squeeze_1/ExponentialMovingAverage', [32]),\n",
       " ('lateral1_batchnorm_moments/Squeeze/ExponentialMovingAverage', [32]),\n",
       " ('lateral1_batchnorm_moments/Squeeze_1/ExponentialMovingAverage', [32]),\n",
       " ('lateral1_batchnorm_moments_1/Squeeze/ExponentialMovingAverage', [32]),\n",
       " ('lateral1_batchnorm_moments_1/Squeeze_1/ExponentialMovingAverage', [32]),\n",
       " ('lateral1_batchnorm_moments_2/Squeeze/ExponentialMovingAverage', [32]),\n",
       " ('lateral1_batchnorm_moments_2/Squeeze_1/ExponentialMovingAverage', [32]),\n",
       " ('lateral_layer_0/lateral0_batchnorm_beta', [32]),\n",
       " ('lateral_layer_0/lateral0_batchnorm_beta/Adam', [32]),\n",
       " ('lateral_layer_0/lateral0_batchnorm_beta/Adam_1', [32]),\n",
       " ('lateral_layer_0/lateral0_batchnorm_gamma', [32]),\n",
       " ('lateral_layer_0/lateral0_batchnorm_gamma/Adam', [32]),\n",
       " ('lateral_layer_0/lateral0_batchnorm_gamma/Adam_1', [32]),\n",
       " ('lateral_layer_0/lateral0_var', [3, 3, 32, 32]),\n",
       " ('lateral_layer_0/lateral0_var/Adam', [3, 3, 32, 32]),\n",
       " ('lateral_layer_0/lateral0_var/Adam_1', [3, 3, 32, 32]),\n",
       " ('lateral_layer_1/lateral1_batchnorm_beta', [32]),\n",
       " ('lateral_layer_1/lateral1_batchnorm_beta/Adam', [32]),\n",
       " ('lateral_layer_1/lateral1_batchnorm_beta/Adam_1', [32]),\n",
       " ('lateral_layer_1/lateral1_batchnorm_gamma', [32]),\n",
       " ('lateral_layer_1/lateral1_batchnorm_gamma/Adam', [32]),\n",
       " ('lateral_layer_1/lateral1_batchnorm_gamma/Adam_1', [32]),\n",
       " ('lateral_layer_1/lateral1_var', [3, 3, 32, 32]),\n",
       " ('lateral_layer_1/lateral1_var/Adam', [3, 3, 32, 32]),\n",
       " ('lateral_layer_1/lateral1_var/Adam_1', [3, 3, 32, 32]),\n",
       " ('learning_rate', []),\n",
       " ('learning_rate_d', []),\n",
       " ('learning_rate_delta', []),\n",
       " ('learning_rate_eta', []),\n",
       " ('preclass_0', [0, 1568]),\n",
       " ('preclass_1', [0, 1568]),\n",
       " ('preclass_2', [0, 1568]),\n",
       " ('preclass_3', [0, 1568]),\n",
       " ('preclass_labels', [0]),\n",
       " ('topdown0_batchnorm_moments/Squeeze/ExponentialMovingAverage', [32]),\n",
       " ('topdown0_batchnorm_moments/Squeeze_1/ExponentialMovingAverage', [32]),\n",
       " ('topdown0_batchnorm_moments_1/Squeeze/ExponentialMovingAverage', [32]),\n",
       " ('topdown0_batchnorm_moments_1/Squeeze_1/ExponentialMovingAverage', [32]),\n",
       " ('topdown0_batchnorm_moments_2/Squeeze/ExponentialMovingAverage', [32]),\n",
       " ('topdown0_batchnorm_moments_2/Squeeze_1/ExponentialMovingAverage', [32]),\n",
       " ('topdown_layer_0/topdown0_batchnorm_beta', [32]),\n",
       " ('topdown_layer_0/topdown0_batchnorm_beta/Adam', [32]),\n",
       " ('topdown_layer_0/topdown0_batchnorm_beta/Adam_1', [32]),\n",
       " ('topdown_layer_0/topdown0_batchnorm_gamma', [32]),\n",
       " ('topdown_layer_0/topdown0_batchnorm_gamma/Adam', [32]),\n",
       " ('topdown_layer_0/topdown0_batchnorm_gamma/Adam_1', [32]),\n",
       " ('topdown_layer_0/topdown0_var', [3, 3, 32, 32]),\n",
       " ('topdown_layer_0/topdown0_var/Adam', [3, 3, 32, 32]),\n",
       " ('topdown_layer_0/topdown0_var/Adam_1', [3, 3, 32, 32])]"
      ]
     },
     "execution_count": 23,
     "metadata": {},
     "output_type": "execute_result"
    }
   ],
   "source": [
    "list_of_variables"
   ]
  },
  {
   "cell_type": "markdown",
   "metadata": {},
   "source": [
    "### Statistics over filters"
   ]
  },
  {
   "cell_type": "code",
   "execution_count": null,
   "metadata": {},
   "outputs": [],
   "source": []
  }
 ],
 "metadata": {
  "kernelspec": {
   "display_name": "Python 3",
   "language": "python",
   "name": "python3"
  },
  "language_info": {
   "codemirror_mode": {
    "name": "ipython",
    "version": 3
   },
   "file_extension": ".py",
   "mimetype": "text/x-python",
   "name": "python",
   "nbconvert_exporter": "python",
   "pygments_lexer": "ipython3",
   "version": "3.5.2"
  }
 },
 "nbformat": 4,
 "nbformat_minor": 2
}
