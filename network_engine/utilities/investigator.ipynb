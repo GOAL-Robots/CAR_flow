{
 "cells": [
  {
   "cell_type": "markdown",
   "metadata": {},
   "source": [
    "# Investigator"
   ]
  },
  {
   "cell_type": "markdown",
   "metadata": {},
   "source": [
    "This notebook is supposed to be an interactive tool to look at parameters and values hidden in the network states. By default you can look at model checkpoints and visualize the different weights"
   ]
  },
  {
   "cell_type": "markdown",
   "metadata": {},
   "source": [
    "Investigator additionally is capable to read saved model-output (.pkl) files to investigate different parameters and explore plotting and animation of time related properties"
   ]
  },
  {
   "cell_type": "code",
   "execution_count": 1,
   "metadata": {},
   "outputs": [
    {
     "name": "stderr",
     "output_type": "stream",
     "text": [
      "WARNING: Logging before flag parsing goes to stderr.\n",
      "W1024 12:27:02.004558 139966945564416 deprecation_wrapper.py:119] From /home/mernst/.local/lib/python3.5/site-packages/tfplot/figure.py:18: The name tf.Summary is deprecated. Please use tf.compat.v1.Summary instead.\n",
      "\n"
     ]
    }
   ],
   "source": [
    "#           .\"\"\"-.\n",
    "#          /      \\\n",
    "#          |  _..--'-.\n",
    "#          >.`__.-\"\";\"`\n",
    "#         / /(     ^\\\n",
    "#         '-`)     =|-.\n",
    "#          /`--.'--'   \\ .-.\n",
    "#        .'`-._ `.\\    | J /\n",
    "#       /      `--.|   \\__/\n",
    "#\n",
    "#\n",
    "#\n",
    "# Copyright 2019 Markus Ernst\n",
    "#\n",
    "# Licensed under the Apache License, Version 2.0 (the \"License\");\n",
    "# you may not use this file except in compliance with the License.\n",
    "# You may obtain a copy of the License at\n",
    "#\n",
    "#     http://www.apache.org/licenses/LICENSE-2.0\n",
    "#\n",
    "# Unless required by applicable law or agreed to in writing, software\n",
    "# distributed under the License is distributed on an \"AS IS\" BASIS,\n",
    "# WITHOUT WARRANTIES OR CONDITIONS OF ANY KIND, either express or implied.\n",
    "# See the License for the specific language governing permissions and\n",
    "# limitations under the License.\n",
    "\n",
    "\n",
    "# standard libraries\n",
    "# -----\n",
    "import tensorflow as tf\n",
    "import numpy as np\n",
    "import matplotlib.pyplot as plt\n",
    "import ipywidgets as widgets\n",
    "from IPython.display import display\n",
    "from tensorflow.python.training import checkpoint_utils as cu\n",
    "# TODO: Incorporate TSNE library here\n",
    "\n",
    "# custom functions\n",
    "# -----\n",
    "import visualizer"
   ]
  },
  {
   "cell_type": "code",
   "execution_count": null,
   "metadata": {},
   "outputs": [],
   "source": []
  },
  {
   "cell_type": "code",
   "execution_count": 2,
   "metadata": {},
   "outputs": [],
   "source": [
    "# interactive mode /eager execution\n",
    "tf.enable_eager_execution()"
   ]
  },
  {
   "cell_type": "code",
   "execution_count": null,
   "metadata": {},
   "outputs": [],
   "source": []
  },
  {
   "cell_type": "code",
   "execution_count": 3,
   "metadata": {},
   "outputs": [],
   "source": [
    "def get_list_of_images(list_of_weights, stereo):\n",
    "\n",
    "\n",
    "    for kernel in list_of_weights:\n",
    "        kernel_name = kernel[0]\n",
    "        kernel_value = kernel[1]\n",
    "        kname = kernel_name.split('/')[1].split('_')[0] + '/kernels'\n",
    "        receptive_pixels = kernel_value.shape[0].value\n",
    "        if 'fc' in kname:\n",
    "            pass\n",
    "        elif 'conv0' in kname:\n",
    "            if stereo:\n",
    "                image.append(\n",
    "                    tf.compat.v1.summary.image(kname, put_kernels_on_grid(\n",
    "                        kname, tf.reshape(kernel_value,\n",
    "                                          [2 * receptive_pixels,\n",
    "                                              receptive_pixels, -1,\n",
    "                                              network.\n",
    "                                              net_params\n",
    "                                              ['conv_filter_shapes'][0][-1]])),\n",
    "                                     max_outputs=1))\n",
    "            else:\n",
    "                image.append(\n",
    "                    tf.compat.v1.summary.image(kname, put_kernels_on_grid(\n",
    "                        kname, kernel_value),\n",
    "                        max_outputs=1))\n",
    "\n",
    "        else:\n",
    "            image.append(\n",
    "                tf.compat.v1.summary.image(kname, put_kernels_on_grid(\n",
    "                    kname, tf.reshape(\n",
    "                        kernel_value, [receptive_pixels, receptive_pixels,\n",
    "                                 1, -1])), max_outputs=1))\n",
    "\n",
    "    return image\n"
   ]
  },
  {
   "cell_type": "code",
   "execution_count": 4,
   "metadata": {},
   "outputs": [],
   "source": [
    "def get_model_paths():\n",
    "    pass"
   ]
  },
  {
   "cell_type": "code",
   "execution_count": 5,
   "metadata": {},
   "outputs": [],
   "source": [
    "def configure_widgets():\n",
    "    toggle = widgets.ToggleButtons(\n",
    "        options=['0 (B)', '1 (B-F)', '2 (B-K)','3 (BT)', '4 (BL)', '5 (BLT)'],\n",
    "        description='Architecture:',\n",
    "        disabled=False,\n",
    "        button_style='', # 'success', 'info', 'warning', 'danger' or ''\n",
    "        tooltips=['Description of slow', 'Description of regular', 'Description of fast'],\n",
    "    #     icons=['check'] * 3\n",
    "    )\n",
    "\n",
    "    slider = widgets.IntSlider(min=0,\n",
    "        max=3,\n",
    "        step=1,\n",
    "        description='Timestep:',\n",
    "        value=3)\n",
    "\n",
    "    dropdown = widgets.Dropdown(\n",
    "        options=['1', '2', '3'],\n",
    "        value='2',\n",
    "        description='Variable:',\n",
    "        disabled=False,\n",
    "    )\n",
    "\n",
    "    irange = widgets.IntRangeSlider(\n",
    "        value=[0, 10000],\n",
    "        min=0,\n",
    "        max=10000,\n",
    "        step=100,\n",
    "        description='Test:',\n",
    "        disabled=False,\n",
    "        continuous_update=False,\n",
    "        orientation='horizontal',\n",
    "        readout=True,\n",
    "        readout_format='d',\n",
    "    )\n",
    "\n",
    "    play = widgets.Play(\n",
    "    #     interval=10,\n",
    "        value=irange.value[0],\n",
    "        min=0,\n",
    "        max=10000,\n",
    "        step=100,\n",
    "        description=\"Press play\",\n",
    "        disabled=False\n",
    "    )\n",
    "    playslide = widgets.IntSlider(\n",
    "        min=0,\n",
    "        max=10000)\n",
    "\n",
    "    widgets.jslink((irange, 'min'), (playslide, 'value'))\n",
    "    widgets.jslink((play, 'value'), (playslide, 'value'))\n",
    "\n",
    "\n",
    "    playwidget = widgets.HBox([play, playslide])\n",
    "\n",
    "    accordion = widgets.Accordion(children=[toggle, slider, dropdown, irange, playwidget])\n",
    "    accordion.set_title(0, 'Choose Configuration')\n",
    "    accordion.set_title(1, 'Timestep')\n",
    "    accordion.set_title(2, 'Look at')\n",
    "    accordion.set_title(3, 'Iterationrange')\n",
    "    accordion.set_title(4, 'Animate')\n",
    "\n",
    "    return accordion"
   ]
  },
  {
   "cell_type": "code",
   "execution_count": 6,
   "metadata": {},
   "outputs": [
    {
     "data": {
      "application/vnd.jupyter.widget-view+json": {
       "model_id": "131d8c5c4f8941419ffec7158e791a3d",
       "version_major": 2,
       "version_minor": 0
      },
      "text/plain": [
       "Accordion(children=(ToggleButtons(description='Architecture:', options=('0 (B)', '1 (B-F)', '2 (B-K)', '3 (BT)…"
      ]
     },
     "metadata": {},
     "output_type": "display_data"
    }
   ],
   "source": [
    "configure_widgets()"
   ]
  },
  {
   "cell_type": "code",
   "execution_count": 7,
   "metadata": {},
   "outputs": [
    {
     "ename": "InvalidArgumentError",
     "evalue": "Unsuccessful TensorSliceReader constructor: Failed to get matching files on /Users/markus/Research/Code/saturn/experiments/001_noname_experiment/data/config0/B0_2l_fm1_d1.0_l20.0_bn1_bs100_lr0.003/mnist_2occ_Xp/28x28x1_grayscale_onehot/checkpoints/: Not found: /Users/markus/Research/Code/saturn/experiments/001_noname_experiment/data/config0/B0_2l_fm1_d1.0_l20.0_bn1_bs100_lr0.003/mnist_2occ_Xp/28x28x1_grayscale_onehot/checkpoints; No such file or directory",
     "output_type": "error",
     "traceback": [
      "\u001b[0;31m---------------------------------------------------------------------------\u001b[0m",
      "\u001b[0;31mInvalidArgumentError\u001b[0m                      Traceback (most recent call last)",
      "\u001b[0;32m<ipython-input-7-76256a601c0f>\u001b[0m in \u001b[0;36m<module>\u001b[0;34m\u001b[0m\n\u001b[1;32m      3\u001b[0m \u001b[0;34m\u001b[0m\u001b[0m\n\u001b[1;32m      4\u001b[0m \u001b[0;34m\u001b[0m\u001b[0m\n\u001b[0;32m----> 5\u001b[0;31m \u001b[0mlist_of_variables\u001b[0m \u001b[0;34m=\u001b[0m \u001b[0mcu\u001b[0m\u001b[0;34m.\u001b[0m\u001b[0mlist_variables\u001b[0m\u001b[0;34m(\u001b[0m\u001b[0mmodelpath\u001b[0m\u001b[0;34m)\u001b[0m\u001b[0;34m\u001b[0m\u001b[0m\n\u001b[0m\u001b[1;32m      6\u001b[0m \u001b[0;31m#get_list_of_images(list_of_variables, False)\u001b[0m\u001b[0;34m\u001b[0m\u001b[0;34m\u001b[0m\u001b[0m\n\u001b[1;32m      7\u001b[0m \u001b[0;34m\u001b[0m\u001b[0m\n",
      "\u001b[0;32m~/virtualenv/tf1_14/lib/python3.5/site-packages/tensorflow/python/training/checkpoint_utils.py\u001b[0m in \u001b[0;36mlist_variables\u001b[0;34m(ckpt_dir_or_file)\u001b[0m\n\u001b[1;32m     95\u001b[0m     \u001b[0mList\u001b[0m \u001b[0mof\u001b[0m \u001b[0mtuples\u001b[0m\u001b[0;31m \u001b[0m\u001b[0;31m`\u001b[0m\u001b[0;34m(\u001b[0m\u001b[0mname\u001b[0m\u001b[0;34m,\u001b[0m \u001b[0mshape\u001b[0m\u001b[0;34m)\u001b[0m\u001b[0;31m`\u001b[0m\u001b[0;34m.\u001b[0m\u001b[0;34m\u001b[0m\u001b[0m\n\u001b[1;32m     96\u001b[0m   \"\"\"\n\u001b[0;32m---> 97\u001b[0;31m   \u001b[0mreader\u001b[0m \u001b[0;34m=\u001b[0m \u001b[0mload_checkpoint\u001b[0m\u001b[0;34m(\u001b[0m\u001b[0mckpt_dir_or_file\u001b[0m\u001b[0;34m)\u001b[0m\u001b[0;34m\u001b[0m\u001b[0m\n\u001b[0m\u001b[1;32m     98\u001b[0m   \u001b[0mvariable_map\u001b[0m \u001b[0;34m=\u001b[0m \u001b[0mreader\u001b[0m\u001b[0;34m.\u001b[0m\u001b[0mget_variable_to_shape_map\u001b[0m\u001b[0;34m(\u001b[0m\u001b[0;34m)\u001b[0m\u001b[0;34m\u001b[0m\u001b[0m\n\u001b[1;32m     99\u001b[0m   \u001b[0mnames\u001b[0m \u001b[0;34m=\u001b[0m \u001b[0msorted\u001b[0m\u001b[0;34m(\u001b[0m\u001b[0mvariable_map\u001b[0m\u001b[0;34m.\u001b[0m\u001b[0mkeys\u001b[0m\u001b[0;34m(\u001b[0m\u001b[0;34m)\u001b[0m\u001b[0;34m)\u001b[0m\u001b[0;34m\u001b[0m\u001b[0m\n",
      "\u001b[0;32m~/virtualenv/tf1_14/lib/python3.5/site-packages/tensorflow/python/training/checkpoint_utils.py\u001b[0m in \u001b[0;36mload_checkpoint\u001b[0;34m(ckpt_dir_or_file)\u001b[0m\n\u001b[1;32m     64\u001b[0m     raise ValueError(\"Couldn't find 'checkpoint' file or checkpoints in \"\n\u001b[1;32m     65\u001b[0m                      \"given directory %s\" % ckpt_dir_or_file)\n\u001b[0;32m---> 66\u001b[0;31m   \u001b[0;32mreturn\u001b[0m \u001b[0mpywrap_tensorflow\u001b[0m\u001b[0;34m.\u001b[0m\u001b[0mNewCheckpointReader\u001b[0m\u001b[0;34m(\u001b[0m\u001b[0mfilename\u001b[0m\u001b[0;34m)\u001b[0m\u001b[0;34m\u001b[0m\u001b[0m\n\u001b[0m\u001b[1;32m     67\u001b[0m \u001b[0;34m\u001b[0m\u001b[0m\n\u001b[1;32m     68\u001b[0m \u001b[0;34m\u001b[0m\u001b[0m\n",
      "\u001b[0;32m~/virtualenv/tf1_14/lib/python3.5/site-packages/tensorflow/python/pywrap_tensorflow_internal.py\u001b[0m in \u001b[0;36mNewCheckpointReader\u001b[0;34m(filepattern)\u001b[0m\n\u001b[1;32m    634\u001b[0m \u001b[0;32mdef\u001b[0m \u001b[0mNewCheckpointReader\u001b[0m\u001b[0;34m(\u001b[0m\u001b[0mfilepattern\u001b[0m\u001b[0;34m)\u001b[0m\u001b[0;34m:\u001b[0m\u001b[0;34m\u001b[0m\u001b[0m\n\u001b[1;32m    635\u001b[0m   \u001b[0;32mfrom\u001b[0m \u001b[0mtensorflow\u001b[0m\u001b[0;34m.\u001b[0m\u001b[0mpython\u001b[0m\u001b[0;34m.\u001b[0m\u001b[0mutil\u001b[0m \u001b[0;32mimport\u001b[0m \u001b[0mcompat\u001b[0m\u001b[0;34m\u001b[0m\u001b[0m\n\u001b[0;32m--> 636\u001b[0;31m   \u001b[0;32mreturn\u001b[0m \u001b[0mCheckpointReader\u001b[0m\u001b[0;34m(\u001b[0m\u001b[0mcompat\u001b[0m\u001b[0;34m.\u001b[0m\u001b[0mas_bytes\u001b[0m\u001b[0;34m(\u001b[0m\u001b[0mfilepattern\u001b[0m\u001b[0;34m)\u001b[0m\u001b[0;34m)\u001b[0m\u001b[0;34m\u001b[0m\u001b[0m\n\u001b[0m\u001b[1;32m    637\u001b[0m \u001b[0;34m\u001b[0m\u001b[0m\n\u001b[1;32m    638\u001b[0m \u001b[0mNewCheckpointReader\u001b[0m\u001b[0;34m.\u001b[0m\u001b[0m_tf_api_names_v1\u001b[0m \u001b[0;34m=\u001b[0m \u001b[0;34m[\u001b[0m\u001b[0;34m'train.NewCheckpointReader'\u001b[0m\u001b[0;34m]\u001b[0m\u001b[0;34m\u001b[0m\u001b[0m\n",
      "\u001b[0;32m~/virtualenv/tf1_14/lib/python3.5/site-packages/tensorflow/python/pywrap_tensorflow_internal.py\u001b[0m in \u001b[0;36m__init__\u001b[0;34m(self, filename)\u001b[0m\n\u001b[1;32m    646\u001b[0m \u001b[0;34m\u001b[0m\u001b[0m\n\u001b[1;32m    647\u001b[0m     \u001b[0;32mdef\u001b[0m \u001b[0m__init__\u001b[0m\u001b[0;34m(\u001b[0m\u001b[0mself\u001b[0m\u001b[0;34m,\u001b[0m \u001b[0mfilename\u001b[0m\u001b[0;34m)\u001b[0m\u001b[0;34m:\u001b[0m\u001b[0;34m\u001b[0m\u001b[0m\n\u001b[0;32m--> 648\u001b[0;31m         \u001b[0mthis\u001b[0m \u001b[0;34m=\u001b[0m \u001b[0m_pywrap_tensorflow_internal\u001b[0m\u001b[0;34m.\u001b[0m\u001b[0mnew_CheckpointReader\u001b[0m\u001b[0;34m(\u001b[0m\u001b[0mfilename\u001b[0m\u001b[0;34m)\u001b[0m\u001b[0;34m\u001b[0m\u001b[0m\n\u001b[0m\u001b[1;32m    649\u001b[0m         \u001b[0;32mtry\u001b[0m\u001b[0;34m:\u001b[0m\u001b[0;34m\u001b[0m\u001b[0m\n\u001b[1;32m    650\u001b[0m             \u001b[0mself\u001b[0m\u001b[0;34m.\u001b[0m\u001b[0mthis\u001b[0m\u001b[0;34m.\u001b[0m\u001b[0mappend\u001b[0m\u001b[0;34m(\u001b[0m\u001b[0mthis\u001b[0m\u001b[0;34m)\u001b[0m\u001b[0;34m\u001b[0m\u001b[0m\n",
      "\u001b[0;31mInvalidArgumentError\u001b[0m: Unsuccessful TensorSliceReader constructor: Failed to get matching files on /Users/markus/Research/Code/saturn/experiments/001_noname_experiment/data/config0/B0_2l_fm1_d1.0_l20.0_bn1_bs100_lr0.003/mnist_2occ_Xp/28x28x1_grayscale_onehot/checkpoints/: Not found: /Users/markus/Research/Code/saturn/experiments/001_noname_experiment/data/config0/B0_2l_fm1_d1.0_l20.0_bn1_bs100_lr0.003/mnist_2occ_Xp/28x28x1_grayscale_onehot/checkpoints; No such file or directory"
     ]
    }
   ],
   "source": [
    "modelpath = '/Users/markus/Research/Code/saturn/experiments/001_noname_experiment/data/config0/B0_2l_fm1_d1.0_l20.0_bn1_bs100_lr0.003/mnist_2occ_Xp/28x28x1_grayscale_onehot/checkpoints/'\n",
    "#modelpath = '/home/aecgroup/aecdata/Results_python/markus/experiments/010_osfashionmnist_stereo/data/config5/i1/BLT3_2l_fm1_d1.0_l20.0_bn1_bs500_lr0.003/osfashionmnist_2occ_Xp/32x32x2_grayscale_onehot/checkpoints/'\n",
    "\n",
    "\n",
    "list_of_variables = cu.list_variables(modelpath)\n",
    "#get_list_of_images(list_of_variables, False)\n",
    "\n",
    "conv0weights = cu.load_variable(modelpath, 'convolutional_layer_0/conv0_conv_var')\n",
    "conv0weights = tf.convert_to_tensor(conv0weights)\n",
    "viz = visualizer.put_kernels_on_grid(name='conv0_weights', kernel=conv0weights)\n",
    "viz_np = viz.numpy()    \n",
    "plt.imshow(viz_np[0,:,:,0], cmap='gray')\n",
    "plt.show()\n",
    "\n",
    "conv0weights = cu.load_variable(modelpath, 'convolutional_layer_0/conv0_conv_var')\n",
    "conv0weights = tf.convert_to_tensor(conv0weights)\n",
    "viz = visualizer.put_kernels_on_grid(name='conv0_weights', kernel=conv0weights)\n",
    "viz_np = viz.numpy()    \n",
    "plt.imshow(viz_np[0,:,:,0], cmap='gray')\n",
    "plt.show()\n",
    "\n",
    "conv0weights = cu.load_variable(modelpath, 'convolutional_layer_0/conv0_conv_var')\n",
    "conv0weights = tf.convert_to_tensor(conv0weights)\n",
    "viz = visualizer.put_kernels_on_grid(name='conv0_weights', kernel=conv0weights)\n",
    "viz_np = viz.numpy()    \n",
    "plt.imshow(viz_np[0,:,:,0], cmap='gray')\n",
    "plt.show()\n",
    "\n",
    "conv0weights = cu.load_variable(modelpath, 'convolutional_layer_0/conv0_conv_var')\n",
    "conv0weights = tf.convert_to_tensor(conv0weights)\n",
    "viz = visualizer.put_kernels_on_grid(name='conv0_weights', kernel=conv0weights)\n",
    "viz_np = viz.numpy()    \n",
    "plt.imshow(viz_np[0,:,:,0], cmap='gray')\n",
    "plt.show()\n",
    "\n",
    "conv0weights = cu.load_variable(modelpath, 'convolutional_layer_0/conv0_conv_var')\n",
    "conv0weights = tf.convert_to_tensor(conv0weights)\n",
    "viz = visualizer.put_kernels_on_grid(name='conv0_weights', kernel=conv0weights)\n",
    "viz_np = viz.numpy()    \n",
    "plt.imshow(viz_np[0,:,:,0], cmap='gray')\n",
    "plt.show()"
   ]
  },
  {
   "cell_type": "code",
   "execution_count": null,
   "metadata": {},
   "outputs": [],
   "source": []
  },
  {
   "cell_type": "code",
   "execution_count": 32,
   "metadata": {},
   "outputs": [
    {
     "name": "stdout",
     "output_type": "stream",
     "text": [
      "[Visualization] conv0_weights grid: 32 = (4, 8)\n"
     ]
    },
    {
     "data": {
      "image/png": "[encoded data removed]",
      "text/plain": [
       "<Figure size 432x288 with 1 Axes>"
      ]
     },
     "metadata": {},
     "output_type": "display_data"
    }
   ],
   "source": [
    "modelpath = '/Users/markus/Research/Code/saturn/experiments/001_noname_experiment/data/config0/B0_2l_fm1_d1.0_l20.0_bn1_bs100_lr0.003/mnist_2occ_Xp/28x28x1_grayscale_onehot/checkpoints/'\n",
    "#modelpath = '/home/aecgroup/aecdata/Results_python/markus/experiments/009_osmnist_stereo/data/config5/i1/BLT3_2l_fm1_d1.0_l20.0_bn1_bs500_lr0.003/osmnist_2occ_Xp/32x32x2_grayscale_onehot/checkpoints/'\n",
    "\n",
    "\n",
    "list_of_variables = cu.list_variables(modelpath)\n",
    "#get_list_of_images(list_of_variables, False)\n",
    "\n",
    "conv0weights = cu.load_variable(modelpath, 'convolutional_layer_0/conv0_conv_var')\n",
    "conv0weights = tf.convert_to_tensor(conv0weights)\n",
    "viz = visualizer.put_kernels_on_grid(name='conv0_weights', kernel=conv0weights)\n",
    "viz_np = viz.numpy()    \n",
    "plt.imshow(viz_np[0,:,:,0], cmap='gray')\n",
    "plt.show()"
   ]
  },
  {
   "cell_type": "code",
   "execution_count": null,
   "metadata": {},
   "outputs": [],
   "source": []
  }
 ],
 "metadata": {
  "kernelspec": {
   "display_name": "Python 3",
   "language": "python",
   "name": "python3"
  },
  "language_info": {
   "codemirror_mode": {
    "name": "ipython",
    "version": 3
   },
   "file_extension": ".py",
   "mimetype": "text/x-python",
   "name": "python",
   "nbconvert_exporter": "python",
   "pygments_lexer": "ipython3",
   "version": "3.5.2"
  }
 },
 "nbformat": 4,
 "nbformat_minor": 2
}
