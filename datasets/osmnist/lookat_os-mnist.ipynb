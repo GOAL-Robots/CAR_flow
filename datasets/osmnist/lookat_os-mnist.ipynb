{
 "cells": [
  {
   "cell_type": "markdown",
   "metadata": {},
   "source": [
    "# 1. Generate Data"
   ]
  },
  {
   "cell_type": "code",
   "execution_count": 1,
   "metadata": {},
   "outputs": [
    {
     "data": {
      "text/plain": [
       "0"
      ]
     },
     "execution_count": 1,
     "metadata": {},
     "output_type": "execute_result"
    }
   ],
   "source": [
    "import os\n",
    "os.system(\"python3 build_os-mnist.py\")"
   ]
  },
  {
   "cell_type": "markdown",
   "metadata": {},
   "source": [
    "# 2. Load Data"
   ]
  },
  {
   "cell_type": "markdown",
   "metadata": {},
   "source": [
    "load standard libraries"
   ]
  },
  {
   "cell_type": "code",
   "execution_count": 1,
   "metadata": {},
   "outputs": [],
   "source": [
    "import tensorflow as tf\n",
    "import numpy as np\n",
    "import matplotlib.pyplot as plt"
   ]
  },
  {
   "cell_type": "markdown",
   "metadata": {},
   "source": [
    "get tf-record parser"
   ]
  },
  {
   "cell_type": "code",
   "execution_count": 2,
   "metadata": {},
   "outputs": [],
   "source": [
    "def _multimnist_parse_osmnist(example_proto):\n",
    "    features = {\n",
    "        \"image_left\": tf.FixedLenFeature([], tf.string),\n",
    "        \"image_right\": tf.FixedLenFeature([], tf.string),\n",
    "        \"label1\": tf.FixedLenFeature([], tf.int64),\n",
    "        \"label2\": tf.FixedLenFeature([], tf.int64),\n",
    "        \"label3\": tf.FixedLenFeature([], tf.int64),\n",
    "        \"occlusion_left\": tf.FixedLenFeature([], tf.float32),\n",
    "        \"occlusion_right\": tf.FixedLenFeature([], tf.float32),\n",
    "        \"occlusion_avg\": tf.FixedLenFeature([], tf.float32),\n",
    "        \"segmap_left\": tf.FixedLenFeature([], tf.string),\n",
    "        \"segmap_right\": tf.FixedLenFeature([], tf.string),\n",
    "      }\n",
    "        \n",
    "\n",
    "    parsed_features = tf.parse_single_example(example_proto, features)\n",
    "    \n",
    "    no_classes = 10\n",
    "    one_hot = tf.one_hot(parsed_features[\"label1\"], no_classes)\n",
    "    \n",
    "    occ1_one_hot = tf.one_hot(parsed_features[\"label2\"], no_classes)\n",
    "    occ2_one_hot = tf.one_hot(parsed_features[\"label3\"], no_classes)\n",
    "    n_hot = one_hot + occ1_one_hot + occ2_one_hot\n",
    "\n",
    "    images_encoded_l =  parsed_features[\"image_left\"]\n",
    "    images_encoded_r =  parsed_features[\"image_right\"]\n",
    "\n",
    "    image_decoded_l = tf.image.decode_png(images_encoded_l)\n",
    "    image_decoded_r = tf.image.decode_png(images_encoded_r)\n",
    "    \n",
    "    segmaps_encoded_l =  parsed_features[\"segmap_left\"]\n",
    "    segmaps_encoded_r =  parsed_features[\"segmap_right\"]\n",
    "\n",
    "    segmap_decoded_l = tf.image.decode_png(segmaps_encoded_l)\n",
    "    segmap_decoded_r = tf.image.decode_png(segmaps_encoded_r)\n",
    "\n",
    "    return image_decoded_l, image_decoded_r, segmap_decoded_l,\\\n",
    "        segmap_decoded_r, n_hot, one_hot, parsed_features[\"occlusion_left\"], parsed_features[\"occlusion_avg\"]\n"
   ]
  },
  {
   "cell_type": "markdown",
   "metadata": {},
   "source": [
    "use parser to get to data"
   ]
  },
  {
   "cell_type": "code",
   "execution_count": 3,
   "metadata": {},
   "outputs": [
    {
     "name": "stderr",
     "output_type": "stream",
     "text": [
      "WARNING: Logging before flag parsing goes to stderr.\n",
      "W1007 10:45:49.975983 4532204992 deprecation.py:323] From <ipython-input-3-99f31dc038c9>:6: DatasetV1.make_initializable_iterator (from tensorflow.python.data.ops.dataset_ops) is deprecated and will be removed in a future version.\n",
      "Instructions for updating:\n",
      "Use `for ... in dataset:` to iterate over a dataset. If using `tf.estimator`, return the `Dataset` object directly from your input function. As a last resort, you can use `tf.compat.v1.data.make_initializable_iterator(dataset)`.\n"
     ]
    }
   ],
   "source": [
    "  ds = tf.data.TFRecordDataset('tfrecord_files/2occ/test/osmnist_test0.tfrecord')\n",
    "  #ds = tf.data.TFRecordDataset('osfashionmnist/tfrecord_files/2occ/test/osfashionmnist_test0.tfrecord')\n",
    "\n",
    "  ds = ds.map(_multimnist_parse_osmnist)\n",
    "\n",
    "  iterator = ds.make_initializable_iterator()\n",
    "\n",
    "  sess = tf.Session()\n",
    "  sess.run(iterator.initializer)"
   ]
  },
  {
   "cell_type": "markdown",
   "metadata": {},
   "source": [
    "# 3. Visualize Data"
   ]
  },
  {
   "cell_type": "markdown",
   "metadata": {},
   "source": [
    "loop through data and use matplotlib to show its contents"
   ]
  },
  {
   "cell_type": "code",
   "execution_count": 25,
   "metadata": {},
   "outputs": [],
   "source": [
    "batch = sess.run(iterator.get_next())\n",
    "left_im = batch[0][:, :, 0]\n",
    "right_im = batch[1][:, :, 0]\n",
    "left_segmap = batch[2]\n",
    "left_bin_segmap = batch[2][:, :, 0]\n",
    "left_bin_segmap = left_bin_segmap > 0\n",
    "left_bin_segmap = np.asarray(left_bin_segmap, dtype=int)\n",
    "right_segmap = batch[3]\n",
    "right_bin_segmap = batch[3][:, :, 0]\n",
    "right_bin_segmap = right_bin_segmap > 0\n",
    "right_bin_segmap = np.asarray(right_bin_segmap, dtype=int)\n",
    "occlusion_left = batch[-2]\n",
    "occlusion_avg = batch[-1]"
   ]
  },
  {
   "cell_type": "code",
   "execution_count": 26,
   "metadata": {},
   "outputs": [
    {
     "data": {
      "text/plain": [
       "<matplotlib.image.AxesImage at 0x12a925c18>"
      ]
     },
     "execution_count": 26,
     "metadata": {},
     "output_type": "execute_result"
    },
    {
     "data": {
      "image/png": "[encoded data removed]",
      "text/plain": [
       "<Figure size 432x288 with 1 Axes>"
      ]
     },
     "metadata": {},
     "output_type": "display_data"
    }
   ],
   "source": [
    "plt.imshow(np.concatenate([left_im, right_im], axis=1), cmap='gray')"
   ]
  },
  {
   "cell_type": "code",
   "execution_count": 27,
   "metadata": {},
   "outputs": [
    {
     "data": {
      "text/plain": [
       "<matplotlib.image.AxesImage at 0x12a9875f8>"
      ]
     },
     "execution_count": 27,
     "metadata": {},
     "output_type": "execute_result"
    },
    {
     "data": {
      "image/png": "[encoded data removed]",
      "text/plain": [
       "<Figure size 432x288 with 1 Axes>"
      ]
     },
     "metadata": {},
     "output_type": "display_data"
    }
   ],
   "source": [
    "plt.imshow(np.concatenate([left_segmap, right_segmap], axis=1))"
   ]
  },
  {
   "cell_type": "code",
   "execution_count": 28,
   "metadata": {},
   "outputs": [
    {
     "data": {
      "text/plain": [
       "<matplotlib.image.AxesImage at 0x12aa6aeb8>"
      ]
     },
     "execution_count": 28,
     "metadata": {},
     "output_type": "execute_result"
    },
    {
     "data": {
      "image/png": "[encoded data removed]",
      "text/plain": [
       "<Figure size 432x288 with 1 Axes>"
      ]
     },
     "metadata": {},
     "output_type": "display_data"
    }
   ],
   "source": [
    "plt.imshow(np.concatenate([left_bin_segmap, right_bin_segmap], axis=1))"
   ]
  },
  {
   "cell_type": "code",
   "execution_count": null,
   "metadata": {},
   "outputs": [],
   "source": []
  },
  {
   "cell_type": "code",
   "execution_count": 20,
   "metadata": {},
   "outputs": [
    {
     "name": "stdout",
     "output_type": "stream",
     "text": [
      "left occlusion: 0.5059523582458496\n",
      "avg occlusion: 0.5952380895614624\n"
     ]
    }
   ],
   "source": [
    "print('left occlusion: {}'.format(occlusion_left))\n",
    "print('avg occlusion: {}'.format(occlusion_avg))"
   ]
  },
  {
   "cell_type": "code",
   "execution_count": 15,
   "metadata": {},
   "outputs": [
    {
     "data": {
      "text/plain": [
       "<matplotlib.image.AxesImage at 0x12a2bb978>"
      ]
     },
     "execution_count": 15,
     "metadata": {},
     "output_type": "execute_result"
    },
    {
     "data": {
      "image/png": "[encoded data removed]",
      "text/plain": [
       "<Figure size 432x288 with 1 Axes>"
      ]
     },
     "metadata": {},
     "output_type": "display_data"
    }
   ],
   "source": [
    "plt.imshow(left_im - right_im)"
   ]
  },
  {
   "cell_type": "code",
   "execution_count": null,
   "metadata": {},
   "outputs": [],
   "source": []
  },
  {
   "cell_type": "code",
   "execution_count": null,
   "metadata": {},
   "outputs": [],
   "source": []
  }
 ],
 "metadata": {
  "kernelspec": {
   "display_name": "Python 3",
   "language": "python",
   "name": "python3"
  },
  "language_info": {
   "codemirror_mode": {
    "name": "ipython",
    "version": 3
   },
   "file_extension": ".py",
   "mimetype": "text/x-python",
   "name": "python",
   "nbconvert_exporter": "python",
   "pygments_lexer": "ipython3",
   "version": "3.6.5"
  }
 },
 "nbformat": 4,
 "nbformat_minor": 2
}
